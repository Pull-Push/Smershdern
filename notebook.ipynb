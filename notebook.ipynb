{
 "cells": [
  {
   "cell_type": "code",
   "execution_count": 3,
   "metadata": {},
   "outputs": [],
   "source": [
    "import pandas as pd\n",
    "\n",
    "ssb = pd.read_csv('SSBUltimate.csv')"
   ]
  },
  {
   "cell_type": "code",
   "execution_count": 4,
   "metadata": {},
   "outputs": [
    {
     "name": "stdout",
     "output_type": "stream",
     "text": [
      "    FIGHTER_NUMBER                NAME\n",
      "7                8                 Fox\n",
      "11              12      Captain Falcon\n",
      "13              14               Peach\n",
      "14              15               Daisy\n",
      "15              16              Bowser\n",
      "16              17        Ice Climbers\n",
      "21              22               Falco\n",
      "25              26           Ganondorf\n",
      "26              27              Mewtwo\n",
      "29              30  Mr. Game and Watch\n",
      "31              32                 Pit\n",
      "32              33            Dark Pit\n",
      "38              39          Diddy Kong\n",
      "41              42         King Dedede\n",
      "43              44             Lucario\n",
      "46              47                Wolf\n",
      "48              49            Mega Man\n",
      "51              52          Little Mac\n",
      "52              53            Greninja\n",
      "56              57               Shulk\n",
      "57              58           Bowser Jr\n",
      "58              59           Duck Hunt\n",
      "66              67               Simon\n",
      "67              68             Richter\n",
      "68              69        King K. Rool\n",
      "71              72       Piranha Plant\n",
      "73              74                Hero\n",
      "75              76               Terry\n",
      "77              78             Min Min\n",
      "81              82              Kazuya\n"
     ]
    }
   ],
   "source": [
    "sok_fighter = ssb[['FIGHTER_NUMBER', 'NAME']][ssb.SOKOL==1]\n",
    "print(sok_fighter)\n",
    "# print(sok_fighter['FIGHTER_NUMBER'].median())\n",
    "sokol_mid = []\n",
    "def mid_out(player):\n",
    "    nums = []\n",
    "    mid_out_list = []\n",
    "    for num in player.FIGHTER_NUMBER:\n",
    "        nums.append(num)\n",
    "    # print(nums)\n",
    "    for x in range(len(nums)):\n",
    "        item = round((len(nums)/2))\n",
    "        mid_out_list.append(nums[item])\n",
    "        nums.pop(item)\n",
    "    # print(mid_out_list)\n",
    "    return mid_out_list\n",
    "\n",
    "for x in mid_out(sok_fighter):\n",
    "    if x in ssb.FIGHTER_NUMBER:\n",
    "        sokol_mid.append((ssb['NAME'][ssb.FIGHTER_NUMBER == x]))\n",
    "\n",
    "# print(sokol_mid)"
   ]
  }
 ],
 "metadata": {
  "kernelspec": {
   "display_name": "Python 3",
   "language": "python",
   "name": "python3"
  },
  "language_info": {
   "codemirror_mode": {
    "name": "ipython",
    "version": 3
   },
   "file_extension": ".py",
   "mimetype": "text/x-python",
   "name": "python",
   "nbconvert_exporter": "python",
   "pygments_lexer": "ipython3",
   "version": "3.12.3"
  }
 },
 "nbformat": 4,
 "nbformat_minor": 2
}
