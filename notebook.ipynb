{
 "cells": [
  {
   "cell_type": "code",
   "execution_count": 3,
   "metadata": {},
   "outputs": [],
   "source": [
    "import pandas as pd\n",
    "\n",
    "ssb = pd.read_csv('SSBUltimate.csv')"
   ]
  },
  {
   "cell_type": "code",
   "execution_count": 4,
   "metadata": {},
   "outputs": [
    {
     "name": "stdout",
     "output_type": "stream",
     "text": [
      "[46    Wolf\n",
      "Name: NAME, dtype: object, 43    Lucario\n",
      "Name: NAME, dtype: object, 48    Mega Man\n",
      "Name: NAME, dtype: object, 51    Little Mac\n",
      "Name: NAME, dtype: object, 41    King Dedede\n",
      "Name: NAME, dtype: object, 38    Diddy Kong\n",
      "Name: NAME, dtype: object, 52    Greninja\n",
      "Name: NAME, dtype: object, 56    Shulk\n",
      "Name: NAME, dtype: object, 32    Dark Pit\n",
      "Name: NAME, dtype: object, 31    Pit\n",
      "Name: NAME, dtype: object, 57    Bowser Jr\n",
      "Name: NAME, dtype: object, 58    Duck Hunt\n",
      "Name: NAME, dtype: object, 29    Mr. Game and Watch\n",
      "Name: NAME, dtype: object, 26    Mewtwo\n",
      "Name: NAME, dtype: object, 66    Simon\n",
      "Name: NAME, dtype: object, 67    Richter\n",
      "Name: NAME, dtype: object, 25    Ganondorf\n",
      "Name: NAME, dtype: object, 21    Falco\n",
      "Name: NAME, dtype: object, 68    King K. Rool\n",
      "Name: NAME, dtype: object, 71    Piranha Plant\n",
      "Name: NAME, dtype: object, 16    Ice Climbers\n",
      "Name: NAME, dtype: object, 15    Bowser\n",
      "Name: NAME, dtype: object, 73    Hero\n",
      "Name: NAME, dtype: object, 75    Terry\n",
      "Name: NAME, dtype: object, 14    Daisy\n",
      "Name: NAME, dtype: object, 13    Peach\n",
      "Name: NAME, dtype: object, 77    Min Min\n",
      "Name: NAME, dtype: object, 81    Kazuya\n",
      "Name: NAME, dtype: object, 11    Captain Falcon\n",
      "Name: NAME, dtype: object, 7    Fox\n",
      "Name: NAME, dtype: object]\n"
     ]
    }
   ],
   "source": [
    "sok_fighter = ssb[['FIGHTER_NUMBER', 'NAME']][ssb.SOKOL==1]\n",
    "# print(sok_fighter)\n",
    "# print(sok_fighter['FIGHTER_NUMBER'].median())\n",
    "sokol_mid = []\n",
    "def mid_out(player):\n",
    "    nums = []\n",
    "    mid_out_list = []\n",
    "    for num in player.FIGHTER_NUMBER:\n",
    "        nums.append(num)\n",
    "    # print(nums)\n",
    "    for x in range(len(nums)):\n",
    "        item = round((len(nums)/2))\n",
    "        mid_out_list.append(nums[item])\n",
    "        nums.pop(item)\n",
    "    # print(mid_out_list)\n",
    "    return mid_out_list\n",
    "\n",
    "for x in mid_out(sok_fighter):\n",
    "    if x in ssb.FIGHTER_NUMBER:\n",
    "        sokol_mid.append((ssb['NAME'][ssb.FIGHTER_NUMBER == x]))\n",
    "\n",
    "print(sokol_mid)"
   ]
  },
  {
   "cell_type": "code",
   "execution_count": 5,
   "metadata": {},
   "outputs": [
    {
     "name": "stdout",
     "output_type": "stream",
     "text": [
      "   FIGHTER_NUMBER         NAME               SERIES  YEAR_DEBUT  TEMPORAL_GAP  \\\n",
      "0               1        Mario          Super Mario        1981            18   \n",
      "1               2  Donkey Kong          Donkey Kong        1981            18   \n",
      "2               3         Link  The Legend of Zelda        1986            13   \n",
      "3               4        Samus              Metroid        1986            13   \n",
      "4               5   Dark Samus              Metroid        2002            16   \n",
      "\n",
      "  SSB_GAME_DEBUT  AGE  GENDER_MALE  GENDER_FEMALE  GENDER_NONE  ALIGN_GOOD  \\\n",
      "0            N64  NaN            1              0            0           1   \n",
      "1            N64  NaN            1              0            0           0   \n",
      "2            N64  NaN            1              0            0           1   \n",
      "3            N64  NaN            0              1            0           1   \n",
      "4       Ultimate  NaN            0              1            0           0   \n",
      "\n",
      "   ALIGN_EVIL  ALIGN_NEUTRAL  HEIGHT  WIDTH   AREA  WEIGHT  SOKOL  DECKER  \\\n",
      "0           0              0   1.400    0.6  0.840    98.0      0       1   \n",
      "1           0              1   1.950    1.8  3.510   127.0      0       1   \n",
      "2           0              0   1.575    0.8  1.260   104.0      0       1   \n",
      "3           0              0   1.790    0.8  1.432   108.0      0       0   \n",
      "4           1              0   1.850    1.0  1.850   108.0      0       0   \n",
      "\n",
      "   REENSTRA  \n",
      "0         0  \n",
      "1         0  \n",
      "2         0  \n",
      "3         1  \n",
      "4         1  \n"
     ]
    }
   ],
   "source": [
    "print(ssb.head())"
   ]
  }
 ],
 "metadata": {
  "kernelspec": {
   "display_name": "Python 3",
   "language": "python",
   "name": "python3"
  },
  "language_info": {
   "codemirror_mode": {
    "name": "ipython",
    "version": 3
   },
   "file_extension": ".py",
   "mimetype": "text/x-python",
   "name": "python",
   "nbconvert_exporter": "python",
   "pygments_lexer": "ipython3",
   "version": "3.10.8"
  }
 },
 "nbformat": 4,
 "nbformat_minor": 2
}
